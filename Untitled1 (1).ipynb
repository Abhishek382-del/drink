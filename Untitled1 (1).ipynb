{
 "cells": [
  {
   "cell_type": "code",
   "execution_count": 1,
   "id": "2215fb80-f46b-45fc-a1f1-595791d30e3a",
   "metadata": {},
   "outputs": [
    {
     "name": "stdout",
     "output_type": "stream",
     "text": [
      "hello world\n"
     ]
    }
   ],
   "source": [
    "print(\"hello world\")\n"
   ]
  },
  {
   "cell_type": "code",
   "execution_count": 7,
   "id": "01547cae-19a1-4095-8b24-c3ea811a649f",
   "metadata": {},
   "outputs": [
    {
     "data": {
      "text/plain": [
       "21"
      ]
     },
     "execution_count": 7,
     "metadata": {},
     "output_type": "execute_result"
    }
   ],
   "source": [
    "age=21\n",
    "age"
   ]
  },
  {
   "cell_type": "markdown",
   "id": "efc75fe5-a29b-47a0-9c88-d40b6a844a9d",
   "metadata": {},
   "source": [
    "21age=21\n",
    "21age"
   ]
  },
  {
   "cell_type": "code",
   "execution_count": 10,
   "id": "be984003-ee15-401b-a060-e2bedb442795",
   "metadata": {},
   "outputs": [
    {
     "data": {
      "text/plain": [
       "21"
      ]
     },
     "execution_count": 10,
     "metadata": {},
     "output_type": "execute_result"
    }
   ],
   "source": [
    "abhi=21\n",
    "abhi"
   ]
  },
  {
   "cell_type": "code",
   "execution_count": 11,
   "id": "0ef314db-659e-4f31-b6ac-58e2949a9245",
   "metadata": {},
   "outputs": [
    {
     "data": {
      "text/plain": [
       "21"
      ]
     },
     "execution_count": 11,
     "metadata": {},
     "output_type": "execute_result"
    }
   ],
   "source": [
    "ab_hi=21\n",
    "ab_hi"
   ]
  },
  {
   "cell_type": "code",
   "execution_count": 12,
   "id": "2f7d8f5a-3b9b-4435-adf0-8639fe6f6141",
   "metadata": {},
   "outputs": [
    {
     "name": "stdout",
     "output_type": "stream",
     "text": [
      "30\n",
      "30\n"
     ]
    }
   ],
   "source": [
    "x=10\n",
    "y=20\n",
    "\n",
    "z=x+y\n",
    "print(z)\n",
    "print(x+y)"
   ]
  },
  {
   "cell_type": "code",
   "execution_count": 13,
   "id": "c5cf5847-b666-42c0-ab1d-361956eef8f3",
   "metadata": {},
   "outputs": [
    {
     "name": "stdin",
     "output_type": "stream",
     "text": [
      "enter the value 21\n"
     ]
    }
   ],
   "source": [
    "y=input(\"enter the value\")"
   ]
  },
  {
   "cell_type": "code",
   "execution_count": 15,
   "id": "b7912587-099a-425b-be4c-5deaab84d4e6",
   "metadata": {},
   "outputs": [
    {
     "data": {
      "text/plain": [
       "str"
      ]
     },
     "execution_count": 15,
     "metadata": {},
     "output_type": "execute_result"
    }
   ],
   "source": [
    "type(y)"
   ]
  },
  {
   "cell_type": "raw",
   "id": "ae887812-f85e-4bdd-97e4-3c234cb0ffa6",
   "metadata": {},
   "source": [
    "profit_q1=5000\n",
    "profit_q2=6000\n",
    "profit_q3=7000\n",
    "profit_q4=8000\n",
    "total_profit=profit_q1+profit_q2+profit_q3+profit_q4\n",
    "print(total_profit)"
   ]
  },
  {
   "cell_type": "code",
   "execution_count": 16,
   "id": "7d49bedc-23e9-4059-8e4e-53a99c3807c5",
   "metadata": {},
   "outputs": [
    {
     "name": "stdout",
     "output_type": "stream",
     "text": [
      "26000\n"
     ]
    }
   ],
   "source": [
    "profit_q1=5000\n",
    "profit_q2=6000\n",
    "profit_q3=7000\n",
    "profit_q4=8000\n",
    "total_profit=profit_q1+profit_q2+profit_q3+profit_q4\n",
    "print(total_profit)"
   ]
  },
  {
   "cell_type": "code",
   "execution_count": 18,
   "id": "f4d1be81-758f-439a-ab90-abb18e415fa2",
   "metadata": {},
   "outputs": [
    {
     "name": "stdout",
     "output_type": "stream",
     "text": [
      "False\n"
     ]
    }
   ],
   "source": [
    "password=\"securel\"\n",
    "is_valid_length=len(password)>=8\n",
    "print(is_valid_length)"
   ]
  },
  {
   "cell_type": "code",
   "execution_count": null,
   "id": "a28e79b3-683f-4d2b-a3a1-794dc164f311",
   "metadata": {},
   "outputs": [],
   "source": []
  },
  {
   "cell_type": "code",
   "execution_count": 28,
   "id": "7db1fa72-5d6e-4d29-b50c-287f7e18e129",
   "metadata": {},
   "outputs": [
    {
     "name": "stdin",
     "output_type": "stream",
     "text": [
      "total members in the house 8\n",
      "some members are missed 2\n"
     ]
    },
    {
     "name": "stdout",
     "output_type": "stream",
     "text": [
      "after the flood total members in the house 6\n",
      "missed members are arrived\n"
     ]
    },
    {
     "name": "stdin",
     "output_type": "stream",
     "text": [
      "some members are coming with them 3\n"
     ]
    },
    {
     "name": "stdout",
     "output_type": "stream",
     "text": [
      "total_members are 11\n"
     ]
    }
   ],
   "source": [
    "totalmember=int(input(\"total members in the house\"))\n",
    "a=int(input(\"some members are missed\"))\n",
    "y=totalmember-a\n",
    "print(\"after the flood total members in the house\",y)\n",
    "print(\"missed members are arrived\")\n",
    "b=int(input(\"some members are coming with them\"))\n",
    "z=y+a+b\n",
    "print(\"total_members are\",z)"
   ]
  },
  {
   "cell_type": "code",
   "execution_count": 30,
   "id": "262a05a4-c2c3-4b25-bbd0-4496d9f1931b",
   "metadata": {},
   "outputs": [
    {
     "name": "stdout",
     "output_type": "stream",
     "text": [
      "360\n",
      "140\n"
     ]
    }
   ],
   "source": [
    "a=45\n",
    "students=8\n",
    "amount=a*students\n",
    "print(amount)\n",
    "totalpaid=500\n",
    "remain=totalpaid-amount\n",
    "print(remain)"
   ]
  },
  {
   "cell_type": "code",
   "execution_count": 31,
   "id": "e72f6d30-58ea-424d-a520-333c178a09be",
   "metadata": {},
   "outputs": [
    {
     "ename": "SyntaxError",
     "evalue": "incomplete input (2034744793.py, line 4)",
     "output_type": "error",
     "traceback": [
      "\u001b[1;36m  Cell \u001b[1;32mIn[31], line 4\u001b[1;36m\u001b[0m\n\u001b[1;33m    if(temp\u001b[0m\n\u001b[1;37m           ^\u001b[0m\n\u001b[1;31mSyntaxError\u001b[0m\u001b[1;31m:\u001b[0m incomplete input\n"
     ]
    }
   ],
   "source": [
    "temp1=20\n",
    "temp2=16\n",
    "temp(temp1+temp2)/2\n",
    "if(temp"
   ]
  },
  {
   "cell_type": "code",
   "execution_count": 38,
   "id": "20aad8c5-930f-4df3-8842-2bb37686ab22",
   "metadata": {},
   "outputs": [
    {
     "data": {
      "text/plain": [
       "'ma'"
      ]
     },
     "execution_count": 38,
     "metadata": {},
     "output_type": "execute_result"
    }
   ],
   "source": [
    "name=\"thejaskumar\"\n",
    "name[-3:-1]"
   ]
  },
  {
   "cell_type": "code",
   "execution_count": 45,
   "id": "b4f77c71-d864-4f1a-9859-b9f2a23dd188",
   "metadata": {},
   "outputs": [
    {
     "name": "stdout",
     "output_type": "stream",
     "text": [
      "in edunet foundation\n"
     ]
    }
   ],
   "source": [
    "name=\"welcome to all we are session in edunet foundation we are learning Ai\"\n",
    "print(name[30:50])\n"
   ]
  },
  {
   "cell_type": "code",
   "execution_count": 1,
   "id": "221b5b56-a547-4ba2-bb6d-feb030baf16c",
   "metadata": {},
   "outputs": [],
   "source": [
    "f=[1,25,32,0,\"hello\"]"
   ]
  },
  {
   "cell_type": "code",
   "execution_count": 2,
   "id": "2cfbb441-b7b1-4031-a4dc-ddc46ddf9812",
   "metadata": {},
   "outputs": [
    {
     "data": {
      "text/plain": [
       "[1, 25, 32, 0, 'hello']"
      ]
     },
     "execution_count": 2,
     "metadata": {},
     "output_type": "execute_result"
    }
   ],
   "source": [
    "f"
   ]
  },
  {
   "cell_type": "code",
   "execution_count": 3,
   "id": "9265f9fc-8173-4752-8b6b-16b7fe2488f3",
   "metadata": {},
   "outputs": [
    {
     "data": {
      "text/plain": [
       "list"
      ]
     },
     "execution_count": 3,
     "metadata": {},
     "output_type": "execute_result"
    }
   ],
   "source": [
    "type(f)"
   ]
  },
  {
   "cell_type": "code",
   "execution_count": 4,
   "id": "86b0eb8d-6f02-4189-99fb-c13a1d2a8d92",
   "metadata": {},
   "outputs": [
    {
     "name": "stdout",
     "output_type": "stream",
     "text": [
      "1\n"
     ]
    }
   ],
   "source": [
    "b=[10,14,16,2]\n",
    "count=b.count(10)\n",
    "print(count)"
   ]
  },
  {
   "cell_type": "code",
   "execution_count": 5,
   "id": "10fdc285-9be8-48e6-872f-08723b1c5908",
   "metadata": {},
   "outputs": [],
   "source": [
    "name=[\"abhishek\",\"tejas\",\"praveen\",\"deepak\",\"yadav\"]"
   ]
  },
  {
   "cell_type": "code",
   "execution_count": 8,
   "id": "df17965f-ccd7-4a7c-8da5-e6033be3ea6a",
   "metadata": {},
   "outputs": [
    {
     "name": "stdout",
     "output_type": "stream",
     "text": [
      "1\n"
     ]
    }
   ],
   "source": [
    "x=0\n",
    "for i in name:\n",
    "    if i==\"yadav\":\n",
    "        x=x+1\n",
    "\n",
    "print(x)"
   ]
  },
  {
   "cell_type": "code",
   "execution_count": 11,
   "id": "77025d83-d263-42d4-8fe1-dbbe4750f01c",
   "metadata": {},
   "outputs": [
    {
     "data": {
      "text/plain": [
       "tuple"
      ]
     },
     "execution_count": 11,
     "metadata": {},
     "output_type": "execute_result"
    }
   ],
   "source": [
    "name=(\"lala\",20.0,\"chintu\",\"pintu\",60.00000)\n",
    "type(name)\n"
   ]
  },
  {
   "cell_type": "code",
   "execution_count": 12,
   "id": "2a849440-b871-43cf-a5ba-d035446c4dca",
   "metadata": {},
   "outputs": [
    {
     "name": "stdout",
     "output_type": "stream",
     "text": [
      "* ** ***\n"
     ]
    }
   ],
   "source": [
    "a=\"*\"\n",
    "b=\"**\"\n",
    "c=\"***\"\n",
    "print(a,b,c)"
   ]
  },
  {
   "cell_type": "code",
   "execution_count": 14,
   "id": "62b958e2-3cf2-424c-a08e-1c2c3cfeef76",
   "metadata": {},
   "outputs": [
    {
     "name": "stdout",
     "output_type": "stream",
     "text": [
      "<class 'tuple'>\n",
      "4\n"
     ]
    }
   ],
   "source": [
    "my_tuple1=(1234,2345,3456,4567)\n",
    "my_tuple2=((1,2,3,4))\n",
    "print(type(my_tuple1))\n",
    "print(len(my_tuple2))"
   ]
  },
  {
   "cell_type": "code",
   "execution_count": 21,
   "id": "a5482628-146a-4100-af97-be24c47fc6d7",
   "metadata": {},
   "outputs": [
    {
     "name": "stdout",
     "output_type": "stream",
     "text": [
      "3\n"
     ]
    }
   ],
   "source": [
    "name=(10,30,14,15,3)\n",
    "smallest=name[0]\n",
    "for i in name:\n",
    "    if i<smallest:\n",
    "        smallest=i\n",
    "print(smallest)"
   ]
  },
  {
   "cell_type": "code",
   "execution_count": null,
   "id": "9a99958c-cfc2-48b8-b98a-34f52707f087",
   "metadata": {},
   "outputs": [],
   "source": []
  }
 ],
 "metadata": {
  "kernelspec": {
   "display_name": "Python 3 (ipykernel)",
   "language": "python",
   "name": "python3"
  },
  "language_info": {
   "codemirror_mode": {
    "name": "ipython",
    "version": 3
   },
   "file_extension": ".py",
   "mimetype": "text/x-python",
   "name": "python",
   "nbconvert_exporter": "python",
   "pygments_lexer": "ipython3",
   "version": "3.12.7"
  }
 },
 "nbformat": 4,
 "nbformat_minor": 5
}
